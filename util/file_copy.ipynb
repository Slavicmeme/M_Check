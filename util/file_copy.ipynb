{
 "cells": [
  {
   "cell_type": "code",
   "execution_count": 3,
   "metadata": {},
   "outputs": [],
   "source": [
    "import os\n",
    "import shutil"
   ]
  },
  {
   "cell_type": "code",
   "execution_count": 4,
   "metadata": {},
   "outputs": [],
   "source": [
    "# 전역 변수로 선언된 복사된 폴더의 수\n",
    "copied_folders = 0"
   ]
  },
  {
   "cell_type": "code",
   "execution_count": 5,
   "metadata": {},
   "outputs": [],
   "source": [
    "def copy_files_with_same_names(folder1_path, folder2_path, destination_folder):\n",
    "    global copied_folders\n",
    "    \n",
    "    # 폴더1과 폴더2의 파일 이름 리스트 가져오기\n",
    "    folder1_files = os.listdir(folder1_path)\n",
    "    folder2_files = os.listdir(folder2_path)\n",
    "    \n",
    "    # 폴더1의 파일 이름과 폴더2의 파일 이름 비교하여 동일한 파일 이름 찾기\n",
    "    common_filenames = set(folder1_files) & set(folder2_files)\n",
    "    \n",
    "    # 대상 폴더가 없으면 생성\n",
    "    os.makedirs(destination_folder, exist_ok=True)\n",
    "    \n",
    "    # 폴더1의 파일 중에서 폴더2에 동일한 이름의 파일이 있는 경우 해당 파일을 대상 폴더로 복사\n",
    "    for filename in common_filenames:\n",
    "        source_file1 = os.path.join(folder1_path, filename)\n",
    "        destination_file = os.path.join(destination_folder, filename)\n",
    "        \n",
    "        # 파일 복사\n",
    "        shutil.copy(source_file1, destination_file)\n",
    "        \n",
    "        # 복사된 폴더의 수 증가\n",
    "        copied_folders += 1"
   ]
  },
  {
   "cell_type": "code",
   "execution_count": 16,
   "metadata": {},
   "outputs": [],
   "source": [
    "# 전역 변수로 선언된 복사된 폴더의 수\n",
    "copied_folders = 0\n",
    "\n",
    "folder1_path = \"chemdraw\"\n",
    "folder2_path = \"chemdraw_train_test_smlies\"\n",
    "destination_folder = \"chemdraw_test\""
   ]
  },
  {
   "cell_type": "code",
   "execution_count": 17,
   "metadata": {},
   "outputs": [
    {
     "name": "stdout",
     "output_type": "stream",
     "text": [
      "총 1042개의 파일을 복사했습니다.\n"
     ]
    }
   ],
   "source": [
    "copy_files_with_same_names(folder1_path, folder2_path, destination_folder)\n",
    "print(f\"총 {copied_folders}개의 파일을 복사했습니다.\")"
   ]
  },
  {
   "cell_type": "code",
   "execution_count": null,
   "metadata": {},
   "outputs": [],
   "source": []
  }
 ],
 "metadata": {
  "kernelspec": {
   "display_name": "Python 3",
   "language": "python",
   "name": "python3"
  },
  "language_info": {
   "codemirror_mode": {
    "name": "ipython",
    "version": 3
   },
   "file_extension": ".py",
   "mimetype": "text/x-python",
   "name": "python",
   "nbconvert_exporter": "python",
   "pygments_lexer": "ipython3",
   "version": "3.10.10"
  }
 },
 "nbformat": 4,
 "nbformat_minor": 2
}
