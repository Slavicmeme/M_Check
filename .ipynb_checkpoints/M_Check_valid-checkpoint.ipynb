{
 "cells": [
  {
   "cell_type": "code",
   "execution_count": 7,
   "id": "00760c35-0b4d-43c1-bd54-0b1e905bc0c3",
   "metadata": {},
   "outputs": [],
   "source": [
    "from PIL import Image \n",
    "import os\n",
    "import csv\n",
    "import torchvision.transforms as transforms\n",
    "import torchvision.models as models\n",
    "import torch.nn as nn\n",
    "import torch\n",
    "import pandas as pd"
   ]
  },
  {
   "cell_type": "code",
   "execution_count": 8,
   "id": "fa8dad91-436f-4193-94e8-ad7062035627",
   "metadata": {},
   "outputs": [],
   "source": [
    "class ImageComparisonModel(nn.Module):\n",
    "    def __init__(self):\n",
    "        super(ImageComparisonModel, self).__init__()\n",
    "        \n",
    "        # Stream 1 for the first image modality\n",
    "        self.stream1 = nn.Sequential(\n",
    "            nn.Conv2d(3, 64, kernel_size=5, stride=1, padding=2),\n",
    "            nn.ReLU(inplace=True),\n",
    "            nn.MaxPool2d(kernel_size=2, stride=2),\n",
    "            nn.Conv2d(64, 128, kernel_size=5, stride=1, padding=2),\n",
    "            nn.ReLU(inplace=True),\n",
    "            nn.MaxPool2d(kernel_size=2, stride=2)\n",
    "        )\n",
    "        \n",
    "        # Stream 2 for the second image modality\n",
    "        self.stream2 = nn.Sequential(\n",
    "            nn.Conv2d(3, 64, kernel_size=5, stride=1, padding=2),\n",
    "            nn.ReLU(inplace=True),\n",
    "            nn.MaxPool2d(kernel_size=2, stride=2),\n",
    "            nn.Conv2d(64, 128, kernel_size=5, stride=1, padding=2),\n",
    "            nn.ReLU(inplace=True),\n",
    "            nn.MaxPool2d(kernel_size=2, stride=2)\n",
    "        )\n",
    "        \n",
    "        # Fusion and decision mechanism\n",
    "        self.comparison = nn.Sequential(\n",
    "            nn.Linear(32*32*128*2, 1024),  # Assuming images are 224x224 size, adjust if different\n",
    "            nn.ReLU(inplace=True),\n",
    "            nn.Dropout(0.5),\n",
    "            nn.Linear(1024, 512),\n",
    "            nn.ReLU(inplace=True),\n",
    "            nn.Linear(512, 1)  # Binary classification\n",
    "        )\n",
    "        \n",
    "    def forward(self, x1, x2):\n",
    "        x1 = self.stream1(x1)\n",
    "        x2 = self.stream2(x2)\n",
    "        \n",
    "        # Flatten the features from both streams\n",
    "        x1 = x1.view(x1.size(0), -1)\n",
    "        x2 = x2.view(x2.size(0), -1)\n",
    "        \n",
    "        # Concatenate the features\n",
    "        x = torch.cat((x1, x2), dim=1)\n",
    "        \n",
    "        # Pass through the comparison mechanism\n",
    "        x = self.comparison(x)\n",
    "        return x"
   ]
  },
  {
   "cell_type": "code",
   "execution_count": 9,
   "id": "2dc6493f-a15f-4924-9b89-13beb5be2b71",
   "metadata": {},
   "outputs": [],
   "source": [
    "# 결과를 저장할 데이터프레임 생성\n",
    "results_df = pd.DataFrame(columns=['Image1', 'Image2', 'Prediction'])\n",
    "\n",
    "# 이미지를 불러오고 전처리\n",
    "transform = transforms.Compose([\n",
    "    transforms.Resize((128, 128)),  # 이미지 크기를 64x64로 조정\n",
    "    transforms.ToTensor(),         # 이미지를 텐서로 변환\n",
    "    transforms.Normalize(mean=[0.5, 0.5, 0.5], std=[0.5, 0.5, 0.5])  # 정규화\n",
    "])"
   ]
  },
  {
   "cell_type": "code",
   "execution_count": 10,
   "id": "0c5c19ea-75b1-42a4-ab71-b281fba90075",
   "metadata": {
    "scrolled": true
   },
   "outputs": [
    {
     "data": {
      "text/plain": [
       "ImageComparisonModel(\n",
       "  (stream1): Sequential(\n",
       "    (0): Conv2d(3, 64, kernel_size=(5, 5), stride=(1, 1), padding=(2, 2))\n",
       "    (1): ReLU(inplace=True)\n",
       "    (2): MaxPool2d(kernel_size=2, stride=2, padding=0, dilation=1, ceil_mode=False)\n",
       "    (3): Conv2d(64, 128, kernel_size=(5, 5), stride=(1, 1), padding=(2, 2))\n",
       "    (4): ReLU(inplace=True)\n",
       "    (5): MaxPool2d(kernel_size=2, stride=2, padding=0, dilation=1, ceil_mode=False)\n",
       "  )\n",
       "  (stream2): Sequential(\n",
       "    (0): Conv2d(3, 64, kernel_size=(5, 5), stride=(1, 1), padding=(2, 2))\n",
       "    (1): ReLU(inplace=True)\n",
       "    (2): MaxPool2d(kernel_size=2, stride=2, padding=0, dilation=1, ceil_mode=False)\n",
       "    (3): Conv2d(64, 128, kernel_size=(5, 5), stride=(1, 1), padding=(2, 2))\n",
       "    (4): ReLU(inplace=True)\n",
       "    (5): MaxPool2d(kernel_size=2, stride=2, padding=0, dilation=1, ceil_mode=False)\n",
       "  )\n",
       "  (comparison): Sequential(\n",
       "    (0): Linear(in_features=262144, out_features=1024, bias=True)\n",
       "    (1): ReLU(inplace=True)\n",
       "    (2): Dropout(p=0.5, inplace=False)\n",
       "    (3): Linear(in_features=1024, out_features=512, bias=True)\n",
       "    (4): ReLU(inplace=True)\n",
       "    (5): Linear(in_features=512, out_features=1, bias=True)\n",
       "  )\n",
       ")"
      ]
     },
     "execution_count": 10,
     "metadata": {},
     "output_type": "execute_result"
    }
   ],
   "source": [
    "# 모델 불러오기\n",
    "model = ImageComparisonModel() # 모델 클래스를 불러올 때와 같은 방식으로 모델을 정의해야 합니다.\n",
    "model.load_state_dict(torch.load('Check_Model.pth'))\n",
    "model.eval()  # 모델을 평가 모드로 설정"
   ]
  },
  {
   "cell_type": "code",
   "execution_count": 15,
   "id": "8311fd85-8664-4a27-b8f2-280624d15ca3",
   "metadata": {},
   "outputs": [],
   "source": [
    "# 이미지가 있는 두 개의 폴더 경로 설정\n",
    "folder1_path = \"test_data/chemdraw_test_smlies\"\n",
    "folder2_path = \"test_data/chemdraw_test_smlies_wrong\"\n",
    "\n",
    "# 이미지 폴더 내의 파일 목록 가져오기\n",
    "folder1_files = os.listdir(folder1_path)\n",
    "folder2_files = os.listdir(folder2_path)"
   ]
  },
  {
   "cell_type": "code",
   "execution_count": 16,
   "id": "e9d4392e-6722-4841-8322-5fd4c689ccbf",
   "metadata": {},
   "outputs": [
    {
     "name": "stdout",
     "output_type": "stream",
     "text": [
      "Results saved to: result_correct.csv\n"
     ]
    }
   ],
   "source": [
    "# 결과를 저장할 CSV 파일 경로 설정\n",
    "output_csv_path = \"result_correct.csv\"\n",
    "\n",
    "# 결과를 저장할 리스트 초기화\n",
    "results = []\n",
    "\n",
    "\n",
    "# 폴더1의 이미지와 폴더2의 이미지를 비교하며 모델 평가\n",
    "for file1, file2 in zip(folder1_files, folder2_files):\n",
    "    # 이미지 파일의 경로 설정\n",
    "    image1_path = os.path.join(folder1_path, file1)\n",
    "    image2_path = os.path.join(folder2_path, file2)\n",
    "\n",
    "    # 이미지 불러오기\n",
    "    image1 = Image.open(image1_path).convert(\"RGB\")\n",
    "    image2 = Image.open(image2_path).convert(\"RGB\")\n",
    "\n",
    "    # 전처리 적용\n",
    "    image1 = transform(image1).unsqueeze(0)  # 배치 차원 추가\n",
    "    image2 = transform(image2).unsqueeze(0)  # 배치 차원 추가\n",
    "\n",
    "    # 모델에 이미지 입력하여 예측 수행\n",
    "    with torch.no_grad():\n",
    "        output = model(image1, image2)\n",
    "        predicted_label = torch.sigmoid(output).item()  # 이진 분류에서 확률값으로 변환\n",
    "\n",
    "    # 결과를 리스트에 저장\n",
    "    results.append([file1, file2, predicted_label])\n",
    "    \n",
    "\n",
    "# 결과를 CSV 파일에 저장\n",
    "with open(output_csv_path, 'w', newline='') as csvfile:\n",
    "    writer = csv.writer(csvfile)\n",
    "    writer.writerow([\"Image1\", \"Image2\", \"Predicted_Probability\"])\n",
    "    writer.writerows(results)\n",
    "\n",
    "print(\"Results saved to:\", output_csv_path)"
   ]
  },
  {
   "cell_type": "code",
   "execution_count": null,
   "id": "1ea89c25-b5c7-4b4e-b665-93cad81a9ab3",
   "metadata": {},
   "outputs": [],
   "source": []
  }
 ],
 "metadata": {
  "kernelspec": {
   "display_name": "Python 3 (ipykernel)",
   "language": "python",
   "name": "python3"
  },
  "language_info": {
   "codemirror_mode": {
    "name": "ipython",
    "version": 3
   },
   "file_extension": ".py",
   "mimetype": "text/x-python",
   "name": "python",
   "nbconvert_exporter": "python",
   "pygments_lexer": "ipython3",
   "version": "3.9.18"
  }
 },
 "nbformat": 4,
 "nbformat_minor": 5
}
