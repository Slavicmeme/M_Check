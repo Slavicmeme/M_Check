{
 "cells": [
  {
   "cell_type": "code",
   "execution_count": 1,
   "id": "78c19276-557f-447a-8548-e9af0957b464",
   "metadata": {},
   "outputs": [],
   "source": [
    "import pandas as pd"
   ]
  },
  {
   "cell_type": "code",
   "execution_count": 2,
   "id": "1be9fc17-c8a6-4512-982f-a3905b5f88bd",
   "metadata": {},
   "outputs": [
    {
     "ename": "SyntaxError",
     "evalue": "invalid syntax (191536979.py, line 2)",
     "output_type": "error",
     "traceback": [
      "\u001b[1;36m  Cell \u001b[1;32mIn[2], line 2\u001b[1;36m\u001b[0m\n\u001b[1;33m    df = pd.read_csv(|'predictions.csv')\u001b[0m\n\u001b[1;37m                     ^\u001b[0m\n\u001b[1;31mSyntaxError\u001b[0m\u001b[1;31m:\u001b[0m invalid syntax\n"
     ]
    }
   ],
   "source": [
    "# CSV 파일 읽기\n",
    "df = pd.read_csv('predictions.csv')"
   ]
  },
  {
   "cell_type": "code",
   "execution_count": 48,
   "id": "0feaca53-005c-4467-9b7c-95beadb4f6ae",
   "metadata": {},
   "outputs": [],
   "source": [
    "# molfile을 제외한 나머지 두 개의 컬럼 값을 변수로 저장\n",
    "smiles_column = 'smiles'\n",
    "image_id_column = 'image_file'\n",
    "# 'image_id' 컬럼은 기존 'image_id' 값을 유지하고, 'file_path' 컬럼 추가\n",
    "synthetic_path = 'synthetic/DDPM/'  # 원하는 경우 변경 가능\n",
    "# 저장할 이름\n",
    "save_name = 'ddpm'"
   ]
  },
  {
   "cell_type": "code",
   "execution_count": 49,
   "id": "9cc53bf6-9bb3-4fb6-8721-1693d597f838",
   "metadata": {},
   "outputs": [],
   "source": [
    "# <invalid> 값을 포함하는 행 제거\n",
    "df = df[df[smiles_column] != '<invalid>']"
   ]
  },
  {
   "cell_type": "code",
   "execution_count": 50,
   "id": "de078384-8863-47f0-9b40-9b2393399b04",
   "metadata": {},
   "outputs": [],
   "source": [
    "# 새로운 DataFrame 생성\n",
    "new_df = pd.DataFrame()"
   ]
  },
  {
   "cell_type": "code",
   "execution_count": 51,
   "id": "6f78552e-299d-4ccd-a78f-7e3136a7f8ed",
   "metadata": {},
   "outputs": [],
   "source": [
    "new_df['image_id'] = df[image_id_column].str.replace('.png', '')\n",
    "new_df['file_path'] = synthetic_path + df[image_id_column]\n",
    "new_df['SMILES'] = df[smiles_column]"
   ]
  },
  {
   "cell_type": "code",
   "execution_count": 52,
   "id": "753c1f64-38a1-4177-8d78-dd3e97348821",
   "metadata": {},
   "outputs": [],
   "source": [
    "# 새로운 DataFrame을 CSV 파일로 저장\n",
    "new_df.to_csv(save_name + '.csv', index=False)"
   ]
  },
  {
   "cell_type": "code",
   "execution_count": null,
   "id": "4203bf00-0023-46ac-b1a5-7a7ec52e815b",
   "metadata": {},
   "outputs": [],
   "source": []
  }
 ],
 "metadata": {
  "kernelspec": {
   "display_name": "Python 3 (ipykernel)",
   "language": "python",
   "name": "python3"
  },
  "language_info": {
   "codemirror_mode": {
    "name": "ipython",
    "version": 3
   },
   "file_extension": ".py",
   "mimetype": "text/x-python",
   "name": "python",
   "nbconvert_exporter": "python",
   "pygments_lexer": "ipython3",
   "version": "3.9.18"
  }
 },
 "nbformat": 4,
 "nbformat_minor": 5
}
