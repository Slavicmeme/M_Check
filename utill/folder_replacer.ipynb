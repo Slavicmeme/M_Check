{
 "cells": [
  {
   "cell_type": "code",
   "execution_count": 1,
   "metadata": {},
   "outputs": [
    {
     "name": "stdout",
     "output_type": "stream",
     "text": [
      "Deleted image image_1.png as it's not found in the data.\n",
      "Deleted image image_12.png as it's not found in the data.\n",
      "Deleted image image_15.png as it's not found in the data.\n",
      "Deleted image image_17.png as it's not found in the data.\n",
      "Deleted image image_26.png as it's not found in the data.\n",
      "Deleted image image_27.png as it's not found in the data.\n",
      "Deleted image image_29.png as it's not found in the data.\n",
      "Deleted image image_31.png as it's not found in the data.\n",
      "Deleted image image_37.png as it's not found in the data.\n",
      "Deleted image image_42.png as it's not found in the data.\n",
      "Image cleanup completed.\n"
     ]
    }
   ],
   "source": [
    "import os\n",
    "import pandas as pd\n",
    "\n",
    "# 폴더 경로 설정\n",
    "folder_path = 'Sample_image_1'\n",
    "\n",
    "# 이미지 파일 목록 가져오기\n",
    "image_files = os.listdir(folder_path)\n",
    "\n",
    "# 데이터 불러오기\n",
    "csv_name = 'ddpm_processed.csv'\n",
    "data = pd.read_csv(csv_name)\n",
    "\n",
    "# 이미지 파일 이름에서 image_id 가져오기\n",
    "image_ids = [file.split('.')[0] for file in image_files]\n",
    "\n",
    "# 이미지 파일이 있는데 데이터에 없는 경우 삭제\n",
    "for image_id in image_ids:\n",
    "    if image_id not in data['image_id'].values:\n",
    "        file_path = os.path.join(folder_path, image_id + '.png')\n",
    "        if os.path.exists(file_path):\n",
    "            os.remove(file_path)\n",
    "            print(f\"Deleted image {image_id}.png as it's not found in the data.\")\n",
    "\n",
    "print(\"Image cleanup completed.\")\n"
   ]
  },
  {
   "cell_type": "code",
   "execution_count": null,
   "metadata": {},
   "outputs": [],
   "source": [
    "# 두 폴더 경로 설정\n",
    "folder_path1 = 'Sample_image_1'\n",
    "folder_path2 = 'chemdraw_ddpm'\n",
    "\n",
    "# 두 폴더 내 이미지 파일 목록 가져오기\n",
    "image_files1 = os.listdir(folder_path1)\n",
    "image_files2 = os.listdir(folder_path2)\n",
    "\n",
    "# 이미지 파일 이름 집합으로 변환\n",
    "image_set1 = set([file.split('.')[0] for file in image_files1])\n",
    "image_set2 = set([file.split('.')[0] for file in image_files2])\n",
    "\n",
    "# 두 폴더 내 이미지 파일 이름 비교\n",
    "differences = image_set1.symmetric_difference(image_set2)\n",
    "\n",
    "if differences:\n",
    "    print(\"Files that are not matching:\")\n",
    "    for file_name in differences:\n",
    "        if file_name in image_set1:\n",
    "            print(f\"File {file_name}.png exists in {folder_path1} but not in {folder_path2}.\")\n",
    "        else:\n",
    "            print(f\"File {file_name}.png exists in {folder_path2} but not in {folder_path1}.\")\n",
    "else:\n",
    "    print(\"All files match between the two folders.\")\n"
   ]
  }
 ],
 "metadata": {
  "kernelspec": {
   "display_name": "Python 3",
   "language": "python",
   "name": "python3"
  },
  "language_info": {
   "codemirror_mode": {
    "name": "ipython",
    "version": 3
   },
   "file_extension": ".py",
   "mimetype": "text/x-python",
   "name": "python",
   "nbconvert_exporter": "python",
   "pygments_lexer": "ipython3",
   "version": "3.10.10"
  }
 },
 "nbformat": 4,
 "nbformat_minor": 2
}
