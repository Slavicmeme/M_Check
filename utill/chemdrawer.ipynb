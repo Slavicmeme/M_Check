{
 "cells": [
  {
   "cell_type": "code",
   "execution_count": 1,
   "metadata": {},
   "outputs": [],
   "source": [
    "import os\n",
    "import pandas as pd\n",
    "from rdkit import Chem\n",
    "from rdkit.Chem import Draw"
   ]
  },
  {
   "cell_type": "code",
   "execution_count": 2,
   "metadata": {},
   "outputs": [],
   "source": [
    "#data = pd.read_csv('chemdraw.csv')\n",
    "csv_name = 'chemdraw_LastTestSet'\n",
    "data = pd.read_csv(csv_name + '.csv')\n",
    "file_name = csv_name"
   ]
  },
  {
   "cell_type": "code",
   "execution_count": 3,
   "metadata": {},
   "outputs": [],
   "source": [
    "data_smlies = data['SMILES']\n",
    "data_name = data['image_id']"
   ]
  },
  {
   "cell_type": "code",
   "execution_count": 4,
   "metadata": {},
   "outputs": [],
   "source": [
    "# 파일 이름의 폴더가 없으면 생성\n",
    "if not os.path.exists(file_name):\n",
    "    os.makedirs(file_name)\n",
    "\n",
    "error_cnt = 0\n",
    "currect_cnt = 0"
   ]
  },
  {
   "cell_type": "code",
   "execution_count": 5,
   "metadata": {},
   "outputs": [],
   "source": [
    "for i in range(len(data_smlies)):\n",
    "    try:\n",
    "        smi = data_smlies[i]\n",
    "        smi_draw = Chem.MolFromSmiles(smi)\n",
    "        smi_img = Draw.MolToImage(smi_draw)\n",
    "\n",
    "        img_name = str(file_name) + '/' + str(data_name[i]) + '.png'\n",
    "\n",
    "        # 이미지 파일이 존재하는지 확인\n",
    "        if os.path.isfile(img_name):\n",
    "            #print(\"File\", img_name, \"already exists. Overwriting...\")\n",
    "            os.remove(img_name)  # 기존 파일 삭제\n",
    "\n",
    "        smi_img.save(img_name)\n",
    "        #print(\"Column:\", i, \"successfully saved image  SMLIES : \" + data_smlies[i])\n",
    "        currect_cnt += 1\n",
    "    except Exception as e:\n",
    "        print(f\"An error occurred while processing data at index {i}: {e}\" + \"\\nSmlies : \" + data_name[i])\n",
    "        error_cnt += 1"
   ]
  },
  {
   "cell_type": "code",
   "execution_count": 6,
   "metadata": {},
   "outputs": [
    {
     "name": "stdout",
     "output_type": "stream",
     "text": [
      "currect_cnt :  500\n",
      "error_cnt :  0\n"
     ]
    }
   ],
   "source": [
    "print(\"currect_cnt : \" , currect_cnt )\n",
    "print(\"error_cnt : \", error_cnt)"
   ]
  },
  {
   "cell_type": "code",
   "execution_count": null,
   "metadata": {},
   "outputs": [],
   "source": []
  }
 ],
 "metadata": {
  "kernelspec": {
   "display_name": "Python 3",
   "language": "python",
   "name": "python3"
  },
  "language_info": {
   "codemirror_mode": {
    "name": "ipython",
    "version": 3
   },
   "file_extension": ".py",
   "mimetype": "text/x-python",
   "name": "python",
   "nbconvert_exporter": "python",
   "pygments_lexer": "ipython3",
   "version": "3.10.10"
  }
 },
 "nbformat": 4,
 "nbformat_minor": 2
}
