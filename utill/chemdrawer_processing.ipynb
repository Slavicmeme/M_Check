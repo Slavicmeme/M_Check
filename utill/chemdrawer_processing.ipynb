{
 "cells": [
  {
   "cell_type": "code",
   "execution_count": 1,
   "metadata": {},
   "outputs": [],
   "source": [
    "import os\n",
    "import pandas as pd\n",
    "from rdkit import Chem\n",
    "from rdkit.Chem import Draw"
   ]
  },
  {
   "cell_type": "code",
   "execution_count": 2,
   "metadata": {},
   "outputs": [],
   "source": [
    "# 데이터 불러오기\n",
    "csv_name = 'ddpm'\n",
    "data = pd.read_csv(csv_name + '.csv')"
   ]
  },
  {
   "cell_type": "code",
   "execution_count": 3,
   "metadata": {},
   "outputs": [],
   "source": [
    "# 필요한 열 선택\n",
    "data_smlies = data['SMILES']\n",
    "data_name = data['image_id']"
   ]
  },
  {
   "cell_type": "code",
   "execution_count": 4,
   "metadata": {},
   "outputs": [],
   "source": [
    "# 결과를 저장할 폴더 이름\n",
    "file_name = csv_name"
   ]
  },
  {
   "cell_type": "code",
   "execution_count": 5,
   "metadata": {},
   "outputs": [],
   "source": [
    "# 폴더 생성\n",
    "if not os.path.exists(file_name):\n",
    "    os.makedirs(file_name)"
   ]
  },
  {
   "cell_type": "code",
   "execution_count": 6,
   "metadata": {},
   "outputs": [],
   "source": [
    "error_cnt = 0\n",
    "currect_cnt = 0"
   ]
  },
  {
   "cell_type": "code",
   "execution_count": 7,
   "metadata": {},
   "outputs": [
    {
     "name": "stderr",
     "output_type": "stream",
     "text": [
      "[17:37:14] Explicit valence for atom # 1 C, 5, is greater than permitted\n",
      "[17:37:14] Explicit valence for atom # 1 C, 7, is greater than permitted\n",
      "[17:37:14] Explicit valence for atom # 2 C, 8, is greater than permitted\n",
      "[17:37:14] Explicit valence for atom # 12 N, 4, is greater than permitted\n",
      "[17:37:14] Explicit valence for atom # 16 C, 5, is greater than permitted\n",
      "[17:37:14] Explicit valence for atom # 48 C, 7, is greater than permitted\n"
     ]
    },
    {
     "name": "stdout",
     "output_type": "stream",
     "text": [
      "An error occurred while processing data at index 2: Null molecule provided\n",
      "Smlies : image_15\n",
      "An error occurred while processing data at index 8: Null molecule provided\n",
      "Smlies : image_42\n",
      "An error occurred while processing data at index 10: Null molecule provided\n",
      "Smlies : image_26\n",
      "An error occurred while processing data at index 11: Null molecule provided\n",
      "Smlies : image_1\n",
      "An error occurred while processing data at index 14: Null molecule provided\n",
      "Smlies : image_27\n",
      "An error occurred while processing data at index 22: Null molecule provided\n",
      "Smlies : image_17\n",
      "An error occurred while processing data at index 35: Null molecule provided\n",
      "Smlies : image_29\n",
      "An error occurred while processing data at index 37: Null molecule provided\n",
      "Smlies : image_37\n",
      "An error occurred while processing data at index 40: Null molecule provided\n",
      "Smlies : image_12\n"
     ]
    },
    {
     "name": "stderr",
     "output_type": "stream",
     "text": [
      "[17:37:14] Explicit valence for atom # 3 N, 4, is greater than permitted\n",
      "[17:37:14] Explicit valence for atom # 31 O, 3, is greater than permitted\n",
      "[17:37:14] Explicit valence for atom # 1 C, 6, is greater than permitted\n"
     ]
    }
   ],
   "source": [
    "# 데이터 처리\n",
    "for i in range(len(data_smlies)):\n",
    "    try:\n",
    "        smi = data_smlies[i]\n",
    "        smi_draw = Chem.MolFromSmiles(smi)\n",
    "        smi_img = Draw.MolToImage(smi_draw)\n",
    "\n",
    "        img_name = str(file_name) + '/' + str(data_name[i]) + '.png'\n",
    "\n",
    "        # 이미지 파일이 존재하는지 확인\n",
    "        if os.path.isfile(img_name):\n",
    "            os.remove(img_name)  # 기존 파일 삭제\n",
    "\n",
    "        smi_img.save(img_name)\n",
    "        currect_cnt += 1\n",
    "    except Exception as e:\n",
    "        print(f\"An error occurred while processing data at index {i}: {e}\" + \"\\nSmlies : \" + data_name[i])\n",
    "        error_cnt += 1\n",
    "        # 에러가 발생한 행 삭제\n",
    "        data = data.drop(i)"
   ]
  },
  {
   "cell_type": "code",
   "execution_count": 8,
   "metadata": {},
   "outputs": [
    {
     "name": "stdout",
     "output_type": "stream",
     "text": [
      "currect_cnt :  40\n",
      "error_cnt :  9\n"
     ]
    }
   ],
   "source": [
    "print(\"currect_cnt : \" , currect_cnt )\n",
    "print(\"error_cnt : \", error_cnt)"
   ]
  },
  {
   "cell_type": "code",
   "execution_count": 9,
   "metadata": {},
   "outputs": [],
   "source": [
    "# 수정된 데이터프레임을 새로운 CSV 파일로 저장\n",
    "data.to_csv(csv_name + '_processed.csv', index=False)"
   ]
  },
  {
   "cell_type": "code",
   "execution_count": null,
   "metadata": {},
   "outputs": [],
   "source": []
  }
 ],
 "metadata": {
  "kernelspec": {
   "display_name": "Python 3",
   "language": "python",
   "name": "python3"
  },
  "language_info": {
   "codemirror_mode": {
    "name": "ipython",
    "version": 3
   },
   "file_extension": ".py",
   "mimetype": "text/x-python",
   "name": "python",
   "nbconvert_exporter": "python",
   "pygments_lexer": "ipython3",
   "version": "3.10.10"
  }
 },
 "nbformat": 4,
 "nbformat_minor": 2
}
