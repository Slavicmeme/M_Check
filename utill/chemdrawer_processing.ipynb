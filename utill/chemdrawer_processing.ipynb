{
 "cells": [
  {
   "cell_type": "code",
   "execution_count": null,
   "metadata": {},
   "outputs": [],
   "source": [
    "import os\n",
    "import pandas as pd\n",
    "from rdkit import Chem\n",
    "from rdkit.Chem import Draw"
   ]
  },
  {
   "cell_type": "code",
   "execution_count": null,
   "metadata": {},
   "outputs": [],
   "source": [
    "# 데이터 불러오기\n",
    "csv_name = 'ddpm'\n",
    "data = pd.read_csv(csv_name + '.csv')"
   ]
  },
  {
   "cell_type": "code",
   "execution_count": null,
   "metadata": {},
   "outputs": [],
   "source": [
    "# 필요한 열 선택\n",
    "data_smlies = data['SMILES']\n",
    "data_name = data['image_id']"
   ]
  },
  {
   "cell_type": "code",
   "execution_count": null,
   "metadata": {},
   "outputs": [],
   "source": [
    "# 결과를 저장할 폴더 이름\n",
    "file_name = csv_name"
   ]
  },
  {
   "cell_type": "code",
   "execution_count": null,
   "metadata": {},
   "outputs": [],
   "source": [
    "# 폴더 생성\n",
    "if not os.path.exists(file_name):\n",
    "    os.makedirs(file_name)"
   ]
  },
  {
   "cell_type": "code",
   "execution_count": null,
   "metadata": {},
   "outputs": [],
   "source": [
    "error_cnt = 0\n",
    "currect_cnt = 0"
   ]
  },
  {
   "cell_type": "code",
   "execution_count": null,
   "metadata": {},
   "outputs": [],
   "source": [
    "# 데이터 처리\n",
    "for i in range(len(data_smlies)):\n",
    "    try:\n",
    "        smi = data_smlies[i]\n",
    "        smi_draw = Chem.MolFromSmiles(smi)\n",
    "        smi_img = Draw.MolToImage(smi_draw)\n",
    "\n",
    "        img_name = str(file_name) + '/' + str(data_name[i]) + '.png'\n",
    "\n",
    "        # 이미지 파일이 존재하는지 확인\n",
    "        if os.path.isfile(img_name):\n",
    "            os.remove(img_name)  # 기존 파일 삭제\n",
    "\n",
    "        smi_img.save(img_name)\n",
    "        currect_cnt += 1\n",
    "    except Exception as e:\n",
    "        print(f\"An error occurred while processing data at index {i}: {e}\" + \"\\nSmlies : \" + data_name[i])\n",
    "        error_cnt += 1\n",
    "        # 에러가 발생한 행 삭제\n",
    "        data = data.drop(i)"
   ]
  },
  {
   "cell_type": "code",
   "execution_count": null,
   "metadata": {},
   "outputs": [],
   "source": [
    "print(\"currect_cnt : \" , currect_cnt )\n",
    "print(\"error_cnt : \", error_cnt)"
   ]
  },
  {
   "cell_type": "code",
   "execution_count": null,
   "metadata": {},
   "outputs": [],
   "source": [
    "# 수정된 데이터프레임을 새로운 CSV 파일로 저장\n",
    "data.to_csv(csv_name + '_processed.csv', index=False)"
   ]
  }
 ],
 "metadata": {
  "language_info": {
   "name": "python"
  }
 },
 "nbformat": 4,
 "nbformat_minor": 2
}
